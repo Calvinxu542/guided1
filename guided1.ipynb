{
 "cells": [
  {
   "cell_type": "markdown",
   "id": "6c8ba2a2",
   "metadata": {},
   "source": [
    "Calvin Xu 542 Deliverble 1"
   ]
  },
  {
   "cell_type": "code",
   "execution_count": 61,
   "id": "606c757e",
   "metadata": {
    "scrolled": true
   },
   "outputs": [
    {
     "data": {
      "text/html": [
       "\n",
       "        <iframe\n",
       "            width=\"900\"\n",
       "            height=\"500\"\n",
       "            src=\"https://www.cia.gov/the-world-factbook/field/median-age/country-comparison\"\n",
       "            frameborder=\"0\"\n",
       "            allowfullscreen\n",
       "            \n",
       "        ></iframe>\n",
       "        "
      ],
      "text/plain": [
       "<IPython.lib.display.IFrame at 0x7ff4699f8df0>"
      ]
     },
     "execution_count": 61,
     "metadata": {},
     "output_type": "execute_result"
    }
   ],
   "source": [
    "from IPython.display import IFrame\n",
    "ciaage= \"https://www.cia.gov/the-world-factbook/field/median-age/country-comparison\"\n",
    "IFrame(ciaage, width=900,height=500)"
   ]
  },
  {
   "cell_type": "code",
   "execution_count": 89,
   "id": "a99b1793",
   "metadata": {},
   "outputs": [
    {
     "data": {
      "text/html": [
       "<div>\n",
       "<style scoped>\n",
       "    .dataframe tbody tr th:only-of-type {\n",
       "        vertical-align: middle;\n",
       "    }\n",
       "\n",
       "    .dataframe tbody tr th {\n",
       "        vertical-align: top;\n",
       "    }\n",
       "\n",
       "    .dataframe thead th {\n",
       "        text-align: right;\n",
       "    }\n",
       "</style>\n",
       "<table border=\"1\" class=\"dataframe\">\n",
       "  <thead>\n",
       "    <tr style=\"text-align: right;\">\n",
       "      <th></th>\n",
       "      <th>Country</th>\n",
       "      <th>years</th>\n",
       "    </tr>\n",
       "  </thead>\n",
       "  <tbody>\n",
       "    <tr>\n",
       "      <th>0</th>\n",
       "      <td>Monaco</td>\n",
       "      <td>55.4</td>\n",
       "    </tr>\n",
       "    <tr>\n",
       "      <th>1</th>\n",
       "      <td>Japan</td>\n",
       "      <td>48.6</td>\n",
       "    </tr>\n",
       "    <tr>\n",
       "      <th>2</th>\n",
       "      <td>Saint Pierre and Miquelon</td>\n",
       "      <td>48.5</td>\n",
       "    </tr>\n",
       "    <tr>\n",
       "      <th>3</th>\n",
       "      <td>Germany</td>\n",
       "      <td>47.8</td>\n",
       "    </tr>\n",
       "    <tr>\n",
       "      <th>4</th>\n",
       "      <td>Italy</td>\n",
       "      <td>46.5</td>\n",
       "    </tr>\n",
       "    <tr>\n",
       "      <th>...</th>\n",
       "      <td>...</td>\n",
       "      <td>...</td>\n",
       "    </tr>\n",
       "    <tr>\n",
       "      <th>222</th>\n",
       "      <td>Chad</td>\n",
       "      <td>16.1</td>\n",
       "    </tr>\n",
       "    <tr>\n",
       "      <th>223</th>\n",
       "      <td>Mali</td>\n",
       "      <td>16.0</td>\n",
       "    </tr>\n",
       "    <tr>\n",
       "      <th>224</th>\n",
       "      <td>Angola</td>\n",
       "      <td>15.9</td>\n",
       "    </tr>\n",
       "    <tr>\n",
       "      <th>225</th>\n",
       "      <td>Uganda</td>\n",
       "      <td>15.7</td>\n",
       "    </tr>\n",
       "    <tr>\n",
       "      <th>226</th>\n",
       "      <td>Niger</td>\n",
       "      <td>14.8</td>\n",
       "    </tr>\n",
       "  </tbody>\n",
       "</table>\n",
       "<p>227 rows × 2 columns</p>\n",
       "</div>"
      ],
      "text/plain": [
       "                       Country  years\n",
       "0                       Monaco   55.4\n",
       "1                        Japan   48.6\n",
       "2    Saint Pierre and Miquelon   48.5\n",
       "3                      Germany   47.8\n",
       "4                        Italy   46.5\n",
       "..                         ...    ...\n",
       "222                       Chad   16.1\n",
       "223                       Mali   16.0\n",
       "224                     Angola   15.9\n",
       "225                     Uganda   15.7\n",
       "226                      Niger   14.8\n",
       "\n",
       "[227 rows x 2 columns]"
      ]
     },
     "execution_count": 89,
     "metadata": {},
     "output_type": "execute_result"
    }
   ],
   "source": [
    "import pandas as pd\n",
    "ciaageTables=pd.read_html(ciaage, header=0,)\n",
    "ciaageTables[0]\n",
    "\n",
    "DFciaage=ciaageTables[0].copy()\n",
    "DFciaage.columns\n",
    "\n",
    "bye=[0,3]\n",
    "DFciaage.drop(columns=DFciaage.columns[bye],inplace=True)\n",
    "DFciaage\n",
    "\n"
   ]
  },
  {
   "cell_type": "code",
   "execution_count": 100,
   "id": "6d6f2eea",
   "metadata": {
    "collapsed": true
   },
   "outputs": [
    {
     "data": {
      "text/html": [
       "\n",
       "        <iframe\n",
       "            width=\"900\"\n",
       "            height=\"500\"\n",
       "            src=\"https://www.cia.gov/the-world-factbook/field/population/country-comparison\"\n",
       "            frameborder=\"0\"\n",
       "            allowfullscreen\n",
       "            \n",
       "        ></iframe>\n",
       "        "
      ],
      "text/plain": [
       "<IPython.lib.display.IFrame at 0x7ff45b2ea730>"
      ]
     },
     "execution_count": 100,
     "metadata": {},
     "output_type": "execute_result"
    }
   ],
   "source": [
    "from IPython.display import IFrame\n",
    "cp= \"https://www.cia.gov/the-world-factbook/field/population/country-comparison\"\n",
    "IFrame(cp, width=900,height=500)"
   ]
  },
  {
   "cell_type": "code",
   "execution_count": 138,
   "id": "c895c79e",
   "metadata": {
    "collapsed": true
   },
   "outputs": [
    {
     "ename": "SyntaxError",
     "evalue": "unexpected character after line continuation character (1267159857.py, line 5)",
     "output_type": "error",
     "traceback": [
      "\u001b[0;36m  Cell \u001b[0;32mIn[138], line 5\u001b[0;36m\u001b[0m\n\u001b[0;31m    DFcp = df.rename({'$Country':'Country,'\\W':'Population'},axis =1 )\u001b[0m\n\u001b[0m                                            ^\u001b[0m\n\u001b[0;31mSyntaxError\u001b[0m\u001b[0;31m:\u001b[0m unexpected character after line continuation character\n"
     ]
    }
   ],
   "source": [
    "import pandas as pd\n",
    "cpTables=pd.read_html(cp, header=0)\n",
    "cpTables[0]\n",
    "\n"
   ]
  },
  {
   "cell_type": "code",
   "execution_count": 141,
   "id": "2a389e70",
   "metadata": {
    "collapsed": true
   },
   "outputs": [
    {
     "ename": "TypeError",
     "evalue": "list indices must be integers or slices, not tuple",
     "output_type": "error",
     "traceback": [
      "\u001b[0;31m---------------------------------------------------------------------------\u001b[0m",
      "\u001b[0;31mTypeError\u001b[0m                                 Traceback (most recent call last)",
      "Cell \u001b[0;32mIn[141], line 11\u001b[0m\n\u001b[1;32m      8\u001b[0m DFurl\u001b[38;5;241m=\u001b[39mciaageTables[\u001b[38;5;241m0\u001b[39m]\u001b[38;5;241m.\u001b[39mcopy()\n\u001b[1;32m      9\u001b[0m DFurl\u001b[38;5;241m.\u001b[39mcolumns\n\u001b[0;32m---> 11\u001b[0m \u001b[43mbye\u001b[49m\u001b[43m[\u001b[49m\u001b[38;5;241;43m0\u001b[39;49m\u001b[43m,\u001b[49m\u001b[38;5;241;43m1\u001b[39;49m\u001b[43m,\u001b[49m\u001b[38;5;241;43m2\u001b[39;49m\u001b[43m]\u001b[49m\n\u001b[1;32m     12\u001b[0m DFurl\u001b[38;5;241m.\u001b[39mdrop(columns\u001b[38;5;241m=\u001b[39mDFurl\u001b[38;5;241m.\u001b[39mcolumns[bye],inplace\u001b[38;5;241m=\u001b[39m\u001b[38;5;28;01mTrue\u001b[39;00m)\n\u001b[1;32m     13\u001b[0m DFurl\n",
      "\u001b[0;31mTypeError\u001b[0m: list indices must be integers or slices, not tuple"
     ]
    }
   ],
   "source": [
    "import pandas as pd\n",
    "import requests \n",
    "import io\n",
    "url =\"https://raw.githubusercontent.com/Calvinxu542/guided1/main/global%20gdp%20ranking.csv\"\n",
    "download = requests.get(url).content\n",
    "df = pd.read_csv(io.StringIO(download.decode('utf-8')))\n",
    "\n",
    "DFurl=ciaageTables[0].copy()\n",
    "DFurl.columns\n",
    "\n",
    "bye[0,1,2]\n",
    "DFurl.drop(columns=DFurl.columns[bye],inplace=True)\n",
    "DFurl\n"
   ]
  },
  {
   "cell_type": "code",
   "execution_count": 4,
   "id": "bf89b3c3",
   "metadata": {
    "collapsed": true
   },
   "outputs": [
    {
     "data": {
      "text/html": [
       "\n",
       "        <iframe\n",
       "            width=\"900\"\n",
       "            height=\"500\"\n",
       "            src=\"https://en.wikipedia.org/wiki/List_of_top_1000_universities_in_the_world\"\n",
       "            frameborder=\"0\"\n",
       "            allowfullscreen\n",
       "            \n",
       "        ></iframe>\n",
       "        "
      ],
      "text/plain": [
       "<IPython.lib.display.IFrame at 0x7ff459225f10>"
      ]
     },
     "execution_count": 4,
     "metadata": {},
     "output_type": "execute_result"
    }
   ],
   "source": [
    "from IPython.display import IFrame\n",
    "linkuni= \"https://en.wikipedia.org/wiki/List_of_top_1000_universities_in_the_world\"\n",
    "IFrame(linkuni, width=900,height=500)"
   ]
  },
  {
   "cell_type": "code",
   "execution_count": 151,
   "id": "babfd1a5",
   "metadata": {},
   "outputs": [
    {
     "ename": "IndexError",
     "evalue": "index 3 is out of bounds for axis 0 with size 2",
     "output_type": "error",
     "traceback": [
      "\u001b[0;31m---------------------------------------------------------------------------\u001b[0m",
      "\u001b[0;31mIndexError\u001b[0m                                Traceback (most recent call last)",
      "Cell \u001b[0;32mIn[151], line 8\u001b[0m\n\u001b[1;32m      5\u001b[0m DFurl\u001b[38;5;241m.\u001b[39mcolumns\n\u001b[1;32m      7\u001b[0m bye[\u001b[38;5;241m0\u001b[39m]\n\u001b[0;32m----> 8\u001b[0m DFurl\u001b[38;5;241m.\u001b[39mdrop(columns\u001b[38;5;241m=\u001b[39m\u001b[43mDFurl\u001b[49m\u001b[38;5;241;43m.\u001b[39;49m\u001b[43mcolumns\u001b[49m\u001b[43m[\u001b[49m\u001b[43mbye\u001b[49m\u001b[43m]\u001b[49m,inplace\u001b[38;5;241m=\u001b[39m\u001b[38;5;28;01mTrue\u001b[39;00m)\n\u001b[1;32m      9\u001b[0m DFurl\n",
      "File \u001b[0;32m~/opt/anaconda3/envs/lol/lib/python3.9/site-packages/pandas/core/indexes/base.py:5339\u001b[0m, in \u001b[0;36mIndex.__getitem__\u001b[0;34m(self, key)\u001b[0m\n\u001b[1;32m   5336\u001b[0m     \u001b[38;5;28;01melse\u001b[39;00m:\n\u001b[1;32m   5337\u001b[0m         key \u001b[38;5;241m=\u001b[39m np\u001b[38;5;241m.\u001b[39masarray(key, dtype\u001b[38;5;241m=\u001b[39m\u001b[38;5;28mbool\u001b[39m)\n\u001b[0;32m-> 5339\u001b[0m result \u001b[38;5;241m=\u001b[39m \u001b[43mgetitem\u001b[49m\u001b[43m(\u001b[49m\u001b[43mkey\u001b[49m\u001b[43m)\u001b[49m\n\u001b[1;32m   5340\u001b[0m \u001b[38;5;66;03m# Because we ruled out integer above, we always get an arraylike here\u001b[39;00m\n\u001b[1;32m   5341\u001b[0m \u001b[38;5;28;01mif\u001b[39;00m result\u001b[38;5;241m.\u001b[39mndim \u001b[38;5;241m>\u001b[39m \u001b[38;5;241m1\u001b[39m:\n",
      "\u001b[0;31mIndexError\u001b[0m: index 3 is out of bounds for axis 0 with size 2"
     ]
    }
   ],
   "source": [
    "import pandas as pd\n",
    "tableuni=pd.read_html(linkuni, header=0)\n",
    "tableuni[0]\n",
    "DFurl=tableuni[0].copy()\n",
    "DFurl.columns\n",
    "\n",
    "bye[0]\n",
    "DFurl.drop(columns=DFurl.columns[bye],inplace=True)\n",
    "DFurl"
   ]
  },
  {
   "cell_type": "code",
   "execution_count": 8,
   "id": "2dd87b5f",
   "metadata": {
    "collapsed": true
   },
   "outputs": [
    {
     "data": {
      "text/plain": [
       "[Empty DataFrame\n",
       " Columns: [Unnamed: 0, This article needs to be updated. Please help update this article to reflect recent events or newly available information. (October 2022)]\n",
       " Index: [],\n",
       "                                        University         Country THE 2022[1]  \\\n",
       " 0                              Harvard University   United States           2   \n",
       " 1     Massachusetts Institute of Technology (MIT)   United States           5   \n",
       " 2                             Stanford University   United States           4   \n",
       " 3                            University of Oxford  United Kingdom           1   \n",
       " 4                         University of Cambridge  United Kingdom           5   \n",
       " ...                                           ...             ...         ...   \n",
       " 1185                         University of Passau         Germany     351-400   \n",
       " 1186        North China Electric Power University           China         NaN   \n",
       " 1187  Institut National Polytechnique de Toulouse          France         NaN   \n",
       " 1188   Wuhan University of Science and Technology           China         NaN   \n",
       " 1189                    Dalian Medical University           China         NaN   \n",
       " \n",
       "      QS 2023[2] ARWU 2021[3]  USNWR 2022 [4] Average *  \\\n",
       " 0             5            1             1.0       2.3   \n",
       " 1             1            4             2.0       3.0   \n",
       " 2             3            2             3.0       3.0   \n",
       " 3             4            7             5.0       4.3   \n",
       " 4             2            3             8.0       4.5   \n",
       " ...         ...          ...             ...       ...   \n",
       " 1185        NaN          NaN             NaN       NaN   \n",
       " 1186        NaN          NaN             NaN       NaN   \n",
       " 1187        NaN          NaN             NaN       NaN   \n",
       " 1188        NaN          NaN             NaN       NaN   \n",
       " 1189        NaN          NaN             NaN       NaN   \n",
       " \n",
       "       Ranking based on the average  \n",
       " 0                              1.0  \n",
       " 1                              2.0  \n",
       " 2                              3.0  \n",
       " 3                              4.0  \n",
       " 4                              5.0  \n",
       " ...                            ...  \n",
       " 1185                           NaN  \n",
       " 1186                           NaN  \n",
       " 1187                           NaN  \n",
       " 1188                           NaN  \n",
       " 1189                           NaN  \n",
       " \n",
       " [1190 rows x 8 columns],\n",
       "   .mw-parser-output .navbar{display:inline;font-size:88%;font-weight:normal}.mw-parser-output .navbar-collapse{float:left;text-align:left}.mw-parser-output .navbar-boxtext{word-spacing:0}.mw-parser-output .navbar ul{display:inline-block;white-space:nowrap;line-height:inherit}.mw-parser-output .navbar-brackets::before{margin-right:-0.125em;content:\"[ \"}.mw-parser-output .navbar-brackets::after{margin-left:-0.125em;content:\" ]\"}.mw-parser-output .navbar li{word-spacing:-0.125em}.mw-parser-output .navbar a>span,.mw-parser-output .navbar a>abbr{text-decoration:inherit}.mw-parser-output .navbar-mini abbr{font-variant:small-caps;border-bottom:none;text-decoration:none;cursor:inherit}.mw-parser-output .navbar-ct-full{font-size:114%;margin:0 7em}.mw-parser-output .navbar-ct-mini{font-size:114%;margin:0 4em}vteUniversity ranking systems  \\\n",
       " 0                                             Global                                                                                                                                                                                                                                                                                                                                                                                                                                                                                                                                                                                                                                                                                                                                                                                                                      \n",
       " 1                                           Regional                                                                                                                                                                                                                                                                                                                                                                                                                                                                                                                                                                                                                                                                                                                                                                                                                      \n",
       " 2                                           National                                                                                                                                                                                                                                                                                                                                                                                                                                                                                                                                                                                                                                                                                                                                                                                                                      \n",
       " 3                                           Category                                                                                                                                                                                                                                                                                                                                                                                                                                                                                                                                                                                                                                                                                                                                                                                                                      \n",
       " \n",
       "   .mw-parser-output .navbar{display:inline;font-size:88%;font-weight:normal}.mw-parser-output .navbar-collapse{float:left;text-align:left}.mw-parser-output .navbar-boxtext{word-spacing:0}.mw-parser-output .navbar ul{display:inline-block;white-space:nowrap;line-height:inherit}.mw-parser-output .navbar-brackets::before{margin-right:-0.125em;content:\"[ \"}.mw-parser-output .navbar-brackets::after{margin-left:-0.125em;content:\" ]\"}.mw-parser-output .navbar li{word-spacing:-0.125em}.mw-parser-output .navbar a>span,.mw-parser-output .navbar a>abbr{text-decoration:inherit}.mw-parser-output .navbar-mini abbr{font-variant:small-caps;border-bottom:none;text-decoration:none;cursor:inherit}.mw-parser-output .navbar-ct-full{font-size:114%;margin:0 7em}.mw-parser-output .navbar-ct-mini{font-size:114%;margin:0 4em}vteUniversity ranking systems.1  \n",
       " 0  Academic Ranking of World Universities Center ...                                                                                                                                                                                                                                                                                                                                                                                                                                                                                                                                                                                                                                                                                                                                                                                                                       \n",
       " 1       European Union Latin America South East Asia                                                                                                                                                                                                                                                                                                                                                                                                                                                                                                                                                                                                                                                                                                                                                                                                                       \n",
       " 2  Australia Excellence in Research for Australia...                                                                                                                                                                                                                                                                                                                                                                                                                                                                                                                                                                                                                                                                                                                                                                                                                       \n",
       " 3                                           Category                                                                                                                                                                                                                                                                                                                                                                                                                                                                                                                                                                                                                                                                                                                                                                                                                       ]"
      ]
     },
     "execution_count": 8,
     "metadata": {},
     "output_type": "execute_result"
    }
   ],
   "source": []
  },
  {
   "cell_type": "code",
   "execution_count": null,
   "id": "97de404f",
   "metadata": {},
   "outputs": [],
   "source": []
  }
 ],
 "metadata": {
  "kernelspec": {
   "display_name": "Python 3 (ipykernel)",
   "language": "python",
   "name": "python3"
  },
  "language_info": {
   "codemirror_mode": {
    "name": "ipython",
    "version": 3
   },
   "file_extension": ".py",
   "mimetype": "text/x-python",
   "name": "python",
   "nbconvert_exporter": "python",
   "pygments_lexer": "ipython3",
   "version": "3.9.15"
  }
 },
 "nbformat": 4,
 "nbformat_minor": 5
}
