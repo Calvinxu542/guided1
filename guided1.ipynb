{
 "cells": [
  {
   "cell_type": "markdown",
   "id": "6c8ba2a2",
   "metadata": {},
   "source": [
    "Calvin Xu 542 Deliverble 1"
   ]
  },
  {
   "cell_type": "code",
   "execution_count": 6,
   "id": "606c757e",
   "metadata": {
    "scrolled": false
   },
   "outputs": [
    {
     "data": {
      "text/html": [
       "\n",
       "        <iframe\n",
       "            width=\"900\"\n",
       "            height=\"500\"\n",
       "            src=\"https://www.cia.gov/the-world-factbook/field/median-age/country-comparison\"\n",
       "            frameborder=\"0\"\n",
       "            allowfullscreen\n",
       "            \n",
       "        ></iframe>\n",
       "        "
      ],
      "text/plain": [
       "<IPython.lib.display.IFrame at 0x7fe4725799a0>"
      ]
     },
     "execution_count": 6,
     "metadata": {},
     "output_type": "execute_result"
    }
   ],
   "source": [
    "from IPython.display import IFrame\n",
    "linkage= \"https://www.cia.gov/the-world-factbook/field/median-age/country-comparison\"\n",
    "IFrame(linkage, width=900,height=500)\n"
   ]
  },
  {
   "cell_type": "code",
   "execution_count": 11,
   "id": "a99b1793",
   "metadata": {},
   "outputs": [
    {
     "data": {
      "text/html": [
       "<div>\n",
       "<style scoped>\n",
       "    .dataframe tbody tr th:only-of-type {\n",
       "        vertical-align: middle;\n",
       "    }\n",
       "\n",
       "    .dataframe tbody tr th {\n",
       "        vertical-align: top;\n",
       "    }\n",
       "\n",
       "    .dataframe thead th {\n",
       "        text-align: right;\n",
       "    }\n",
       "</style>\n",
       "<table border=\"1\" class=\"dataframe\">\n",
       "  <thead>\n",
       "    <tr style=\"text-align: right;\">\n",
       "      <th></th>\n",
       "      <th>Rank</th>\n",
       "      <th>Country</th>\n",
       "      <th>years</th>\n",
       "      <th>Date of Information</th>\n",
       "    </tr>\n",
       "  </thead>\n",
       "  <tbody>\n",
       "    <tr>\n",
       "      <th>0</th>\n",
       "      <td>1</td>\n",
       "      <td>Monaco</td>\n",
       "      <td>55.4</td>\n",
       "      <td>NaN</td>\n",
       "    </tr>\n",
       "    <tr>\n",
       "      <th>1</th>\n",
       "      <td>2</td>\n",
       "      <td>Japan</td>\n",
       "      <td>48.6</td>\n",
       "      <td>NaN</td>\n",
       "    </tr>\n",
       "    <tr>\n",
       "      <th>2</th>\n",
       "      <td>3</td>\n",
       "      <td>Saint Pierre and Miquelon</td>\n",
       "      <td>48.5</td>\n",
       "      <td>NaN</td>\n",
       "    </tr>\n",
       "    <tr>\n",
       "      <th>3</th>\n",
       "      <td>4</td>\n",
       "      <td>Germany</td>\n",
       "      <td>47.8</td>\n",
       "      <td>NaN</td>\n",
       "    </tr>\n",
       "    <tr>\n",
       "      <th>4</th>\n",
       "      <td>5</td>\n",
       "      <td>Italy</td>\n",
       "      <td>46.5</td>\n",
       "      <td>NaN</td>\n",
       "    </tr>\n",
       "  </tbody>\n",
       "</table>\n",
       "</div>"
      ],
      "text/plain": [
       "   Rank                    Country  years Date of Information\n",
       "0     1                     Monaco   55.4                 NaN\n",
       "1     2                      Japan   48.6                 NaN\n",
       "2     3  Saint Pierre and Miquelon   48.5                 NaN\n",
       "3     4                    Germany   47.8                 NaN\n",
       "4     5                      Italy   46.5                 NaN"
      ]
     },
     "execution_count": 11,
     "metadata": {},
     "output_type": "execute_result"
    }
   ],
   "source": [
    "import pandas as pdf\n",
    "tableage=pdf.read_html(linkage, header=0)\n",
    "tableage[0].head()"
   ]
  },
  {
   "cell_type": "code",
   "execution_count": 12,
   "id": "31bb0564",
   "metadata": {},
   "outputs": [
    {
     "data": {
      "text/plain": [
       "[     Rank                    Country  years Date of Information\n",
       " 0       1                     Monaco   55.4                 NaN\n",
       " 1       2                      Japan   48.6                 NaN\n",
       " 2       3  Saint Pierre and Miquelon   48.5                 NaN\n",
       " 3       4                    Germany   47.8                 NaN\n",
       " 4       5                      Italy   46.5                 NaN\n",
       " ..    ...                        ...    ...                 ...\n",
       " 222   223                       Chad   16.1                 NaN\n",
       " 223   224                       Mali   16.0                 NaN\n",
       " 224   225                     Angola   15.9                 NaN\n",
       " 225   226                     Uganda   15.7                 NaN\n",
       " 226   227                      Niger   14.8                 NaN\n",
       " \n",
       " [227 rows x 4 columns]]"
      ]
     },
     "execution_count": 12,
     "metadata": {},
     "output_type": "execute_result"
    }
   ],
   "source": [
    "tableage"
   ]
  },
  {
   "cell_type": "code",
   "execution_count": 19,
   "id": "54a3357f",
   "metadata": {},
   "outputs": [
    {
     "data": {
      "text/html": [
       "\n",
       "        <iframe\n",
       "            width=\"900\"\n",
       "            height=\"500\"\n",
       "            src=\"https://www.cia.gov/the-world-factbook/field/population/country-comparison\"\n",
       "            frameborder=\"0\"\n",
       "            allowfullscreen\n",
       "            \n",
       "        ></iframe>\n",
       "        "
      ],
      "text/plain": [
       "<IPython.lib.display.IFrame at 0x7fe47258a9d0>"
      ]
     },
     "execution_count": 19,
     "metadata": {},
     "output_type": "execute_result"
    }
   ],
   "source": [
    "from IPython.display import IFrame\n",
    "linkpopulation= \"https://www.cia.gov/the-world-factbook/field/population/country-comparison\"\n",
    "IFrame(linkpopulation, width=900,height=500)"
   ]
  },
  {
   "cell_type": "code",
   "execution_count": 21,
   "id": "0daec9b7",
   "metadata": {},
   "outputs": [
    {
     "data": {
      "text/html": [
       "<div>\n",
       "<style scoped>\n",
       "    .dataframe tbody tr th:only-of-type {\n",
       "        vertical-align: middle;\n",
       "    }\n",
       "\n",
       "    .dataframe tbody tr th {\n",
       "        vertical-align: top;\n",
       "    }\n",
       "\n",
       "    .dataframe thead th {\n",
       "        text-align: right;\n",
       "    }\n",
       "</style>\n",
       "<table border=\"1\" class=\"dataframe\">\n",
       "  <thead>\n",
       "    <tr style=\"text-align: right;\">\n",
       "      <th></th>\n",
       "      <th>Rank</th>\n",
       "      <th>Country</th>\n",
       "      <th>Unnamed: 2</th>\n",
       "      <th>Date of Information</th>\n",
       "    </tr>\n",
       "  </thead>\n",
       "  <tbody>\n",
       "    <tr>\n",
       "      <th>0</th>\n",
       "      <td>1</td>\n",
       "      <td>China</td>\n",
       "      <td>1410539758</td>\n",
       "      <td>2022 est.</td>\n",
       "    </tr>\n",
       "    <tr>\n",
       "      <th>1</th>\n",
       "      <td>2</td>\n",
       "      <td>India</td>\n",
       "      <td>1389637446</td>\n",
       "      <td>2022 est.</td>\n",
       "    </tr>\n",
       "    <tr>\n",
       "      <th>2</th>\n",
       "      <td>3</td>\n",
       "      <td>United States</td>\n",
       "      <td>337341954</td>\n",
       "      <td>2022 est.</td>\n",
       "    </tr>\n",
       "    <tr>\n",
       "      <th>3</th>\n",
       "      <td>4</td>\n",
       "      <td>Indonesia</td>\n",
       "      <td>277329163</td>\n",
       "      <td>2022 est.</td>\n",
       "    </tr>\n",
       "    <tr>\n",
       "      <th>4</th>\n",
       "      <td>5</td>\n",
       "      <td>Pakistan</td>\n",
       "      <td>242923845</td>\n",
       "      <td>2022 est.</td>\n",
       "    </tr>\n",
       "  </tbody>\n",
       "</table>\n",
       "</div>"
      ],
      "text/plain": [
       "   Rank        Country  Unnamed: 2 Date of Information\n",
       "0     1          China  1410539758           2022 est.\n",
       "1     2          India  1389637446           2022 est.\n",
       "2     3  United States   337341954           2022 est.\n",
       "3     4      Indonesia   277329163           2022 est.\n",
       "4     5       Pakistan   242923845           2022 est."
      ]
     },
     "execution_count": 21,
     "metadata": {},
     "output_type": "execute_result"
    }
   ],
   "source": [
    "import pandas as pdf\n",
    "tablelink=pdf.read_html(linkpopulation, header=0)\n",
    "tablelink[0].head()"
   ]
  },
  {
   "cell_type": "code",
   "execution_count": 22,
   "id": "aab3819e",
   "metadata": {
    "scrolled": true
   },
   "outputs": [
    {
     "data": {
      "text/plain": [
       "[     Rank                  Country  Unnamed: 2 Date of Information\n",
       " 0       1                    China  1410539758           2022 est.\n",
       " 1       2                    India  1389637446           2022 est.\n",
       " 2       3            United States   337341954           2022 est.\n",
       " 3       4                Indonesia   277329163           2022 est.\n",
       " 4       5                 Pakistan   242923845           2022 est.\n",
       " ..    ...                      ...         ...                 ...\n",
       " 232   233                  Tokelau        1647           2019 est.\n",
       " 233   234          Paracel Islands        1440      July 2014 est.\n",
       " 234   235  Holy See (Vatican City)        1000           2022 est.\n",
       " 235   236  Cocos (Keeling) Islands         596      July 2014 est.\n",
       " 236   237         Pitcairn Islands          50           2021 est.\n",
       " \n",
       " [237 rows x 4 columns]]"
      ]
     },
     "execution_count": 22,
     "metadata": {},
     "output_type": "execute_result"
    }
   ],
   "source": [
    "tablelink"
   ]
  },
  {
   "cell_type": "code",
   "execution_count": 23,
   "id": "bf3dbd0e",
   "metadata": {},
   "outputs": [
    {
     "data": {
      "text/plain": [
       "2"
      ]
     },
     "execution_count": 23,
     "metadata": {},
     "output_type": "execute_result"
    }
   ],
   "source": [
    "1+1"
   ]
  },
  {
   "cell_type": "code",
   "execution_count": null,
   "id": "bdda6c68",
   "metadata": {},
   "outputs": [],
   "source": []
  }
 ],
 "metadata": {
  "kernelspec": {
   "display_name": "Python 3 (ipykernel)",
   "language": "python",
   "name": "python3"
  },
  "language_info": {
   "codemirror_mode": {
    "name": "ipython",
    "version": 3
   },
   "file_extension": ".py",
   "mimetype": "text/x-python",
   "name": "python",
   "nbconvert_exporter": "python",
   "pygments_lexer": "ipython3",
   "version": "3.9.15"
  }
 },
 "nbformat": 4,
 "nbformat_minor": 5
}
